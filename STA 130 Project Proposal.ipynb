{
 "cells": [
  {
   "cell_type": "markdown",
   "id": "45c268dc",
   "metadata": {},
   "source": [
    "# Project Proposal "
   ]
  },
  {
   "cell_type": "markdown",
   "id": "48905bc7",
   "metadata": {},
   "source": [
    "# Research Questions"
   ]
  },
  {
   "cell_type": "markdown",
   "id": "0f9f5f1c",
   "metadata": {},
   "source": [
    "## 1. Spending Time with Friends and Loneliness"
   ]
  },
  {
   "cell_type": "markdown",
   "id": "2259c46b",
   "metadata": {},
   "source": [
    "### Research Question: How does spending time with friends affect a person's loneliness?"
   ]
  },
  {
   "cell_type": "markdown",
   "id": "16f5484f",
   "metadata": {},
   "source": [
    "### Motivation: This research could reveal the influence of social interactions on alleviating feelings of loneliness. Understanding this relationship can be particularly valuable for mental health interventions focused on social connection."
   ]
  },
  {
   "cell_type": "markdown",
   "id": "34626354",
   "metadata": {},
   "source": [
    "## Variables:"
   ]
  },
  {
   "cell_type": "markdown",
   "id": "ff5c6b5c",
   "metadata": {},
   "source": [
    "Loneliness - Companionship (LONELY_ucla_loneliness_scale_companionship): Measures feelings of lacking companionship, with responses from \"Never\" to \"Often.\""
   ]
  },
  {
   "cell_type": "markdown",
   "id": "0b00ee0a",
   "metadata": {},
   "source": [
    "Time spent with friends (CONNECTION_social_time_friends_p7d_grouped): Tracks weekly hours spent socializing with friends, categorized as \"No time,\" \"Less than 1 hour,\" \"1 to 4 hours,\" or \"5 or more hours.\""
   ]
  },
  {
   "cell_type": "markdown",
   "id": "584c2f18",
   "metadata": {},
   "source": [
    "## Visualization and Summary Statistics:"
   ]
  },
  {
   "cell_type": "markdown",
   "id": "ace8da8a",
   "metadata": {},
   "source": [
    "Bar Plot: Illustrate average loneliness scores across time categories to visualize differences."
   ]
  },
  {
   "cell_type": "markdown",
   "id": "be8d61cc",
   "metadata": {},
   "source": [
    "Correlation Analysis: Calculate a Spearman correlation to assess the association between time spent with friends and companionship levels."
   ]
  },
  {
   "cell_type": "markdown",
   "id": "48a1e69a",
   "metadata": {},
   "source": [
    "### Justification: These visualizations and analyses can reveal whether more time spent with friends correlates with reduced feelings of loneliness."
   ]
  },
  {
   "cell_type": "markdown",
   "id": "314d34a6",
   "metadata": {},
   "source": [
    "## Analysis Plan"
   ]
  },
  {
   "cell_type": "markdown",
   "id": "d37e72c2",
   "metadata": {},
   "source": [
    "### Method: Spearman correlation analysis to identify potential associations between time spent with friends and loneliness."
   ]
  },
  {
   "cell_type": "markdown",
   "id": "66dd6a4d",
   "metadata": {},
   "source": [
    "### Assumptions: Both variables are ordinal and non-normally distributed, making a non-parametric approach suitable."
   ]
  },
  {
   "cell_type": "markdown",
   "id": "833b9958",
   "metadata": {},
   "source": [
    "## Hypotheses/Results and Discussion"
   ]
  },
  {
   "cell_type": "markdown",
   "id": "d30b899c",
   "metadata": {},
   "source": [
    "Hypothesis: Greater time spent with friends will correlate with lower feelings of loneliness and increased companionship.\n"
   ]
  },
  {
   "cell_type": "markdown",
   "id": "08f621a3",
   "metadata": {},
   "source": [
    "Expected Relevance: A significant negative correlation between time with friends and loneliness would support social interaction as a key factor in combating loneliness, informing mental health strategies."
   ]
  },
  {
   "cell_type": "markdown",
   "id": "928703c8",
   "metadata": {},
   "source": [
    "## 2. Walking and Physical Health"
   ]
  },
  {
   "cell_type": "markdown",
   "id": "2f83b9a7",
   "metadata": {},
   "source": [
    "### Research Question: In what ways does walking affect your physical health?"
   ]
  },
  {
   "cell_type": "markdown",
   "id": "ab7db036",
   "metadata": {},
   "source": [
    "### Motivation: Exploring this relationship can highlight whether regular walking is associated with better physical health ratings. This may be relevant for public health campaigns encouraging physical activity as a means of improving health."
   ]
  },
  {
   "cell_type": "markdown",
   "id": "84fe9f3d",
   "metadata": {},
   "source": [
    "## Variables"
   ]
  },
  {
   "cell_type": "markdown",
   "id": "51251262",
   "metadata": {},
   "source": [
    "Self-rated physical health (WELLNESS_self_rated_physical_health): A self-assessment rating, from \"Poor\" to \"Excellent.\""
   ]
  },
  {
   "cell_type": "markdown",
   "id": "c1305526",
   "metadata": {},
   "source": [
    "Frequency of walking with others (CONNECTION_activities_walk_p3m): Tracks how often participants walk with others, ranging from \"Not in the past three months\" to \"Daily or almost daily.\""
   ]
  },
  {
   "cell_type": "markdown",
   "id": "3e3dcf7e",
   "metadata": {},
   "source": [
    "## Visualization and Summary Statistics:"
   ]
  },
  {
   "cell_type": "markdown",
   "id": "6e5db570",
   "metadata": {},
   "source": [
    "Box Plot: Compare physical health ratings across categories of walking frequency to visualize the impact."
   ]
  },
  {
   "cell_type": "markdown",
   "id": "14b4f267",
   "metadata": {},
   "source": [
    "Mean Comparison: Calculate mean physical health ratings for each walking category."
   ]
  },
  {
   "cell_type": "markdown",
   "id": "6eb6e920",
   "metadata": {},
   "source": [
    "### Justification: These visualizations allow us to see if physical health scores tend to be higher among those who frequently walk with others, suggesting a positive impact."
   ]
  },
  {
   "cell_type": "markdown",
   "id": "28dd974b",
   "metadata": {},
   "source": [
    "## Analysis Plan"
   ]
  },
  {
   "cell_type": "markdown",
   "id": "8308b1bc",
   "metadata": {},
   "source": [
    "Method: An ANOVA test or Kruskal-Wallis test could assess if physical health ratings significantly differ across walking frequency groups."
   ]
  },
  {
   "cell_type": "markdown",
   "id": "315e5351",
   "metadata": {},
   "source": [
    "Assumptions: Ordinal data with an assumed monotonic relationship between physical health and walking frequency, appropriate for non-parametric testing."
   ]
  },
  {
   "cell_type": "markdown",
   "id": "a3449f6a",
   "metadata": {},
   "source": [
    "## Hypotheses/Results and Discussion"
   ]
  },
  {
   "cell_type": "markdown",
   "id": "7691aa6c",
   "metadata": {},
   "source": [
    "Hypothesis: Higher walking frequency with others will correspond to better self-rated physical health scores."
   ]
  },
  {
   "cell_type": "markdown",
   "id": "4f603b06",
   "metadata": {},
   "source": [
    "Expected Relevance: Confirming this hypothesis could support public health recommendations promoting social physical activities, such as walking with friends, for health improvement."
   ]
  },
  {
   "cell_type": "markdown",
   "id": "63d7ddd9",
   "metadata": {},
   "source": [
    "## 3. Phone Use and Feeling Trapped"
   ]
  },
  {
   "cell_type": "markdown",
   "id": "bd2f647b",
   "metadata": {},
   "source": [
    "### Research Question: Is there any correspondance between using your phone and frequency of feeling trapped as indicated by the Malach Pines burnout measure?"
   ]
  },
  {
   "cell_type": "markdown",
   "id": "e07b04bf",
   "metadata": {},
   "source": [
    "### Motivation: This analysis could identify potential links between technology use and burnout symptoms, especially relevant in an era where screen time and mental well-being are significant concerns."
   ]
  },
  {
   "cell_type": "markdown",
   "id": "45720620",
   "metadata": {},
   "source": [
    "## Variables"
   ]
  },
  {
   "cell_type": "markdown",
   "id": "43835729",
   "metadata": {},
   "source": [
    "Feeling trapped (WELLNESS_malach_pines_burnout_measure_trapped): Measures how often individuals feel trapped, from \"Never\" to \"Always.\""
   ]
  },
  {
   "cell_type": "markdown",
   "id": "dad49ab1",
   "metadata": {},
   "source": [
    "Phone use with friends/family (CONNECTION_activities_phone_p3m): Tracks phone use frequency, ranging from \"Not in the past three months\" to \"Daily or almost daily.\""
   ]
  },
  {
   "cell_type": "markdown",
   "id": "f1326be2",
   "metadata": {},
   "source": [
    "## Visualization and Summary Statistics:"
   ]
  },
  {
   "cell_type": "markdown",
   "id": "d973744b",
   "metadata": {},
   "source": [
    "Scatter Plot or Cross Tabulation: Display burnout feelings across different levels of phone use."
   ]
  },
  {
   "cell_type": "markdown",
   "id": "caf16bbc",
   "metadata": {},
   "source": [
    "Chi-square Test: A chi-square test of independence could assess if there’s a significant association between phone use and feeling trapped."
   ]
  },
  {
   "cell_type": "markdown",
   "id": "9b332732",
   "metadata": {},
   "source": [
    "### Justification: These methods allow us to determine if frequent phone use is associated with higher burnout feelings, potentially providing insights into the effects of screen time on mental well-being."
   ]
  },
  {
   "cell_type": "markdown",
   "id": "1a95a7b0",
   "metadata": {},
   "source": [
    "## Analysis Plan "
   ]
  },
  {
   "cell_type": "markdown",
   "id": "1b32e16e",
   "metadata": {},
   "source": [
    "Method: A chi-square test for independence, comparing the distribution of burnout feelings across phone use frequency groups."
   ]
  },
  {
   "cell_type": "markdown",
   "id": "6fd3ed20",
   "metadata": {},
   "source": [
    "Assumptions: Variables are categorical, making chi-square a suitable test. A large enough sample size ensures sufficient cell counts."
   ]
  },
  {
   "cell_type": "markdown",
   "id": "cdf254fc",
   "metadata": {},
   "source": [
    "## Hypotheses/Results and Discussion"
   ]
  },
  {
   "cell_type": "markdown",
   "id": "0d52d854",
   "metadata": {},
   "source": [
    "Hypothesis: More frequent phone use with friends and family is positively associated with a feeling of being trapped, indicating a potential link between screen time and burnout symptoms."
   ]
  },
  {
   "cell_type": "markdown",
   "id": "fb2e271a",
   "metadata": {},
   "source": [
    "Expected Relevance: A significant association could encourage awareness of potential downsides of phone reliance, especially regarding mental health and well-being."
   ]
  }
 ],
 "metadata": {
  "kernelspec": {
   "display_name": "Python 3 (ipykernel)",
   "language": "python",
   "name": "python3"
  },
  "language_info": {
   "codemirror_mode": {
    "name": "ipython",
    "version": 3
   },
   "file_extension": ".py",
   "mimetype": "text/x-python",
   "name": "python",
   "nbconvert_exporter": "python",
   "pygments_lexer": "ipython3",
   "version": "3.11.6"
  }
 },
 "nbformat": 4,
 "nbformat_minor": 5
}
